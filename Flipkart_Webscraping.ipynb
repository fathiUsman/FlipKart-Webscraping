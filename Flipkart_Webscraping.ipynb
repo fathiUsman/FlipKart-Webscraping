{
  "nbformat": 4,
  "nbformat_minor": 0,
  "metadata": {
    "colab": {
      "name": "Flipkart-Webscraping.ipynb",
      "provenance": [],
      "collapsed_sections": [],
      "authorship_tag": "ABX9TyNyIv8WFfPSi2SJvc8aXV64",
      "include_colab_link": true
    },
    "kernelspec": {
      "name": "python3",
      "display_name": "Python 3"
    },
    "language_info": {
      "name": "python"
    }
  },
  "cells": [
    {
      "cell_type": "markdown",
      "metadata": {
        "id": "view-in-github",
        "colab_type": "text"
      },
      "source": [
        "<a href=\"https://colab.research.google.com/github/fathiUsman/FlipKart-Webscraping/blob/main/Flipkart_Webscraping.ipynb\" target=\"_parent\"><img src=\"https://colab.research.google.com/assets/colab-badge.svg\" alt=\"Open In Colab\"/></a>"
      ]
    },
    {
      "cell_type": "code",
      "metadata": {
        "id": "gP4sQXfqZk32"
      },
      "source": [
        "#import all the packages\n",
        "\n",
        "import requests\n",
        "from bs4 import BeautifulSoup\n",
        "import pandas as pd\n",
        "import time\n",
        "from IPython.display import clear_output\n"
      ],
      "execution_count": null,
      "outputs": []
    },
    {
      "cell_type": "code",
      "metadata": {
        "id": "lWfMID11Z1Jj"
      },
      "source": [
        "#To get the contents of the specified URL, submit a request using the requests library. \n",
        "#This is the URL of the Flipkart website containing Macbooks.\n",
        "\n",
        "url='https://www.flipkart.com/search?q=macbook&sid=6bo%2Cb5g&as=on&as-show=on&otracker=AS_QueryStore_OrganicAutoSuggest_1_3_na_na_na&otracker1=AS_QueryStore_OrganicAutoSuggest_1_3_na_na_na&as-pos=1&as-type=RECENT&suggestionId=macbook%7CLaptops&requestId=e63a82ea-ebdb-48f9-b9bd-cd02934a1654&as-searchtext=mac'\n",
        "\n",
        "req=requests.get(url)\n",
        "soup=BeautifulSoup(req.text,'html')\n",
        "print(soup.prettify())"
      ],
      "execution_count": null,
      "outputs": []
    },
    {
      "cell_type": "code",
      "metadata": {
        "colab": {
          "base_uri": "https://localhost:8080/"
        },
        "id": "21NBWpNzZ1Ma",
        "outputId": "dd527f83-d6aa-4c6a-ed27-e3591b3688ee"
      },
      "source": [
        "#Extracting the product names\n",
        "p=soup.findAll('div',attrs={'class':'_4rR01T'})                  \n",
        "product=[i.text for i in p]\n",
        "product\n",
        "len(product)                           "
      ],
      "execution_count": null,
      "outputs": [
        {
          "output_type": "execute_result",
          "data": {
            "text/plain": [
              "24"
            ]
          },
          "metadata": {
            "tags": []
          },
          "execution_count": 20
        }
      ]
    },
    {
      "cell_type": "code",
      "metadata": {
        "colab": {
          "base_uri": "https://localhost:8080/"
        },
        "id": "1xnO4UcjZ1PF",
        "outputId": "d3259368-2ec7-43a5-97b2-d1e9e3bb0552"
      },
      "source": [
        "#Extracting the price of all products\n",
        "pr=soup.findAll('div',attrs={'class':'_30jeq3 _1_WHN1'})           \n",
        "price=[i.text for i in pr]\n",
        "price\n",
        "len(price)"
      ],
      "execution_count": null,
      "outputs": [
        {
          "output_type": "execute_result",
          "data": {
            "text/plain": [
              "24"
            ]
          },
          "metadata": {
            "tags": []
          },
          "execution_count": 21
        }
      ]
    },
    {
      "cell_type": "code",
      "metadata": {
        "colab": {
          "base_uri": "https://localhost:8080/"
        },
        "id": "kWHBVjgaZ1SN",
        "outputId": "65401739-22b2-4da8-e7b6-47f91cc774ed"
      },
      "source": [
        "#Extracting the star ratings for all product\n",
        "s=soup.findAll('div',attrs={'class':'gUuXy-'})                       \n",
        "star=[i.span.text for i in s]\n",
        "star\n",
        "len(star)"
      ],
      "execution_count": null,
      "outputs": [
        {
          "output_type": "execute_result",
          "data": {
            "text/plain": [
              "24"
            ]
          },
          "metadata": {
            "tags": []
          },
          "execution_count": 22
        }
      ]
    },
    {
      "cell_type": "code",
      "metadata": {
        "colab": {
          "base_uri": "https://localhost:8080/"
        },
        "id": "Kp4SgKH6Z1VW",
        "outputId": "f638acb4-574d-4269-af0e-380b170ca8b5"
      },
      "source": [
        "#Extracting the the ratings and reviews of all products\n",
        "\n",
        "ratings=[]\n",
        "reviews=[]\n",
        "\n",
        "r=soup.findAll('span',attrs={'class':'_2_R_DZ'})       \n",
        "for i in r: \n",
        "  r=i.text.split('&')\n",
        "\n",
        "\n",
        "  \n",
        "  ratings.append(r[0].split(' ')[0])\n",
        "  reviews.append(r[1].split(' ')[0].strip())\n",
        "ratings\n",
        "reviews\n",
        "\n",
        "len(ratings)\n",
        "len(reviews)"
      ],
      "execution_count": null,
      "outputs": [
        {
          "output_type": "execute_result",
          "data": {
            "text/plain": [
              "24"
            ]
          },
          "metadata": {
            "tags": []
          },
          "execution_count": 23
        }
      ]
    },
    {
      "cell_type": "code",
      "metadata": {
        "colab": {
          "base_uri": "https://localhost:8080/"
        },
        "id": "E-2LEgi6Z1Ym",
        "outputId": "e55f45df-b856-4a0a-8158-bf6601af5ca5"
      },
      "source": [
        "#Extracting the features of all products\n",
        "features=[]\n",
        "a=soup.findAll('ul',attrs={'class':'_1xgFaf'})                \n",
        "for i in a:       \n",
        "  a=i.findAll('li')\n",
        "  features.append([i.text for i in a])\n",
        "features\n",
        "len(features)"
      ],
      "execution_count": null,
      "outputs": [
        {
          "output_type": "execute_result",
          "data": {
            "text/plain": [
              "24"
            ]
          },
          "metadata": {
            "tags": []
          },
          "execution_count": 24
        }
      ]
    },
    {
      "cell_type": "code",
      "metadata": {
        "id": "1L2hIuuJZ1a-"
      },
      "source": [
        "#import time module\n",
        "#create empty list for all\n",
        "\n",
        "import time \n",
        "base_url = 'https://www.flipkart.com/search?q=macbook&sid=6bo%2Cb5g&as=on&as-show=on&otracker=AS_QueryStore_HistoryAutoSuggest_1_2_na_na_na&otracker1=AS_QueryStore_HistoryAutoSuggest_1_2_na_na_na&as-pos=1&as-type=HISTORY&suggestionId=macbook%7CLaptops&requestId=fac3745a-260d-4e22-8a62-d7000b982913&page='\n",
        "\n",
        "product=[]\n",
        "price=[]\n",
        "star=[]\n",
        "reviews=[]\n",
        "ratings=[]\n",
        "features=[]\n",
        "\n",
        "for i in range(1,5):\n",
        "  time.sleep(3)\n",
        "  url=base_url+str(i)\n",
        "  req=requests.get(url)\n",
        "  soup=BeautifulSoup(req.text,'html')\n",
        "  \n",
        "  p=soup.findAll('div',attrs={'class':'_4rR01T'})                  #product name\n",
        "  for i in p:\n",
        "    product.append(i.text)\n",
        "  \n",
        "\n",
        "  pr=soup.findAll('div',attrs={'class':'_30jeq3 _1_WHN1'})               # price\n",
        "  for i in pr:\n",
        "    price.append(i.text)\n",
        "  \n",
        "  s=soup.findAll('div',attrs={'class':'gUuXy-'})                    #star rating\n",
        "  for i in s:\n",
        "    star.append(i.text)\n",
        "  \n",
        "  r=soup.findAll('span',attrs={'class':'_2_R_DZ'})             #rating n reviews\n",
        "  for i in r:\n",
        "    r=i.text.split('&')\n",
        "    ratings.append(r[0].split(' ')[0])\n",
        "    reviews.append(r[1].split(' ')[0].strip())\n",
        "  \n",
        "\n",
        " \n",
        "  a=soup.findAll('ul',attrs={'class':'_1xgFaf'})                      #features\n",
        "  for i in a:\n",
        "    a=i.findAll('li')\n",
        "    features.append([i.text for i in a])\n",
        "    \n",
        "  \n",
        "  \n",
        "\n"
      ],
      "execution_count": null,
      "outputs": []
    },
    {
      "cell_type": "code",
      "metadata": {
        "id": "geSXdcAqZ1dq"
      },
      "source": [
        "#merging all datas into a single frame and final data set will be displayed\n",
        " \n",
        "data=pd.DataFrame({'Product_info' : product,\n",
        "                   'Price' : price,\n",
        "                   'star_info':star,\n",
        "                   'Reviews': reviews,\n",
        "                   'Ratings': ratings,\n",
        "                   'Features':features\n",
        "                  })\n",
        "data"
      ],
      "execution_count": null,
      "outputs": []
    },
    {
      "cell_type": "code",
      "metadata": {
        "id": "3w40xU7oZ1gQ"
      },
      "source": [
        "#Data will be saved into csv file\n",
        "data.to_csv('Macbook.csv',index=False)\n",
        "data\n"
      ],
      "execution_count": null,
      "outputs": []
    },
    {
      "cell_type": "code",
      "metadata": {
        "id": "Scw0HqblZ1jo"
      },
      "source": [
        ""
      ],
      "execution_count": null,
      "outputs": []
    }
  ]
}